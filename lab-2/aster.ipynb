{
 "cells": [
  {
   "cell_type": "code",
   "execution_count": 4,
   "metadata": {},
   "outputs": [
    {
     "name": "stdout",
     "output_type": "stream",
     "text": [
      "The original list-1 is: [(4, 8), (19, 22), (28, 36), (91, 98)]\n",
      "The original list-2 is: [(10, 22), (23, 26), (15, 20), (52, 58)]\n",
      "Merged tuples: [((19, 22), (23, 26), (28, 36)), ((4, 8), (15, 20), (19, 22)), ((28, 36), (52, 58), (91, 98))]\n"
     ]
    }
   ],
   "source": [
    "#Python program to merge tuple list by overlapping mid tuple\n",
    "\n",
    "list1 = [(4,8), (19,22), (28,36), (91,98)]\n",
    "list2 = [(10,22), (23,26), (15,20), (52,58)]\n",
    "\n",
    "print(\"The original list-1 is: \" + str(list1))\n",
    "print(\"The original list-2 is: \" + str(list2))\n",
    "\n",
    "index = 0\n",
    "j = 0\n",
    "result = list()\n",
    "\n",
    "while (j < len(list1)) :\n",
    "    if ((list2[j][0] > list1[index][0]) and (list2[j][1] < list1[index+1][1])) :\n",
    "        result.append((list1[index],list2[j],list1[index+1]))\n",
    "        j += 1\n",
    "        index = 0\n",
    "    else :\n",
    "        index += 1\n",
    "    if (index == (len(list1)-1)) :\n",
    "        index = 0\n",
    "        j += 1\n",
    "\n",
    "print(\"Merged tuples: \" + str(result))"
   ]
  },
  {
   "cell_type": "code",
   "execution_count": 1,
   "metadata": {},
   "outputs": [
    {
     "name": "stdout",
     "output_type": "stream",
     "text": [
      "Original List: [(4, 5), (7, 6), (1, 0), (3, 4)]\n",
      "Search List: [(3, 4), (8, 9), (7, 6), (1, 2)]\n",
      "The matched tuple indices: [3, 1]\n"
     ]
    }
   ],
   "source": [
    "# Python program to find indices from other tuple lit\n",
    "\n",
    "originalList = [(4,5), (7,6), (1,0), (3,4)]\n",
    "print(\"Original List: \" + str(originalList)) \n",
    "\n",
    "searchList = [(3,4), (8,9), (7,6), (1,2)]\n",
    "print(\"Search List: \" + str(searchList))\n",
    "\n",
    "resultantlist = list()\n",
    "\n",
    "for elementPair in searchList :\n",
    "    if  elementPair in originalList :\n",
    "        resultantlist.append(originalList.index(elementPair))\n",
    "\n",
    "print(\"The matched tuple indices: \" + str(resultantlist))"
   ]
  },
  {
   "cell_type": "code",
   "execution_count": 5,
   "metadata": {},
   "outputs": [
    {
     "name": "stdout",
     "output_type": "stream",
     "text": [
      "The original list: [{'gfg': ['K', 2, 0]}, {'is': ['K', 1, 9]}, {'best': ['K', 2, 1]}]\n",
      "Records after conversion: [{'gfg': 'K', 'is': 'K', 'best': 'K'}, {'gfg': 2, 'is': 1, 'best': 2}, {'gfg': 0, 'is': 9, 'best': 1}]\n",
      "\n",
      "Records after conversion:\n",
      "{'gfg': 'K', 'is': 'K', 'best': 'K'}\n",
      "{'gfg': 2, 'is': 1, 'best': 2}\n",
      "{'gfg': 0, 'is': 9, 'best': 1}\n"
     ]
    }
   ],
   "source": [
    "# Python program to convert dictionary values list to dictionary list \n",
    "\n",
    "originalList = [\n",
    "    {'gfg' : ['K', 2, 0]},\n",
    "    {'is' : ['K', 1, 9]},\n",
    "    {'best' : ['K', 2, 1]}\n",
    "   \n",
    "] \n",
    "\n",
    "print(\"The original list: \" + str(originalList))\n",
    "\n",
    "resultantList = list({} for index in range(len(originalList)))\n",
    "\n",
    "index = 0\n",
    "\n",
    "for keyValuePair in originalList :\n",
    "    for key,value in keyValuePair.items():\n",
    "        for element in value :\n",
    "            resultantList[index][key] = element\n",
    "            index += 1\n",
    "        index = 0\n",
    "print(\"Records after conversion: \" + str(resultantList))\n",
    "print(\"\\nRecords after conversion:\")\n",
    "for item in resultantList:\n",
    "    print(item)"
   ]
  },
  {
   "cell_type": "code",
   "execution_count": 6,
   "metadata": {},
   "outputs": [
    {
     "name": "stdout",
     "output_type": "stream",
     "text": [
      "Original list: [(1, 3), (1, 4), (2, 3), (3, 2), (5, 3), (6, 4)]\n",
      "The dictionary converted from tuple list: {1: [3, 4], 2: [3], 3: [2], 5: [3], 6: [4]}\n"
     ]
    }
   ],
   "source": [
    "# Python program to categorize tuple values into dictionay values list\n",
    "\n",
    "originalList = [(1,3), (1,4), (2,3), (3,2), (5,3), (6,4)]\n",
    "print(\"Original list: \" + str(originalList))\n",
    "\n",
    "referenceValue = list()\n",
    "\n",
    "for item in originalList :\n",
    "    if item[0] not in referenceValue :\n",
    "        referenceValue.append(item[0])\n",
    "\n",
    "dictValuesList = dict()\n",
    "\n",
    "for item in referenceValue :\n",
    "    matchedValues = list()\n",
    "    for values in originalList :\n",
    "        if (values[0] == item) :\n",
    "            matchedValues.append(values[1])\n",
    "\n",
    "        dictValuesList[item] = matchedValues\n",
    "\n",
    "print(\"The dictionary converted from tuple list: \" + str(dictValuesList))"
   ]
  },
  {
   "cell_type": "code",
   "execution_count": 9,
   "metadata": {},
   "outputs": [
    {
     "name": "stdout",
     "output_type": "stream",
     "text": [
      "The original list: [(4, 5), (1, 3), (9, 4), (8, 2), (10, 1)]\n"
     ]
    },
    {
     "name": "stdin",
     "output_type": "stream",
     "text": [
      "Enter the start value:  4\n"
     ]
    },
    {
     "name": "stdout",
     "output_type": "stream",
     "text": [
      "Constructed dictionary: {4: (4, 5), 5: (1, 3), 6: (9, 4), 7: (8, 2), 8: (10, 1)}\n"
     ]
    }
   ],
   "source": [
    "# Python program to convert tuple list to dictionary with key from a given start value\n",
    "\n",
    "originalList = [(4,5),(1,3),(9,4),(8,2),(10,1)]\n",
    "print(f\"The original list: {originalList}\")\n",
    "\n",
    "startValue = int(input(\"Enter the start value: \"))\n",
    "\n",
    "resultantDict = dict()\n",
    "\n",
    "for item in originalList :\n",
    "    resultantDict[startValue] = item\n",
    "    startValue += 1\n",
    "\n",
    "print(f\"Constructed dictionary: {resultantDict}\")"
   ]
  },
  {
   "cell_type": "code",
   "execution_count": null,
   "metadata": {},
   "outputs": [],
   "source": []
  },
  {
   "cell_type": "code",
   "execution_count": null,
   "metadata": {},
   "outputs": [],
   "source": []
  }
 ],
 "metadata": {
  "kernelspec": {
   "display_name": "Python 3",
   "language": "python",
   "name": "python3"
  },
  "language_info": {
   "codemirror_mode": {
    "name": "ipython",
    "version": 3
   },
   "file_extension": ".py",
   "mimetype": "text/x-python",
   "name": "python",
   "nbconvert_exporter": "python",
   "pygments_lexer": "ipython3",
   "version": "3.7.4"
  }
 },
 "nbformat": 4,
 "nbformat_minor": 4
}
